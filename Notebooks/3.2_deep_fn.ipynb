{
 "cells": [
  {
   "cell_type": "code",
   "execution_count": 2,
   "metadata": {},
   "outputs": [],
   "source": [
    "%load_ext autoreload\n",
    "%autoreload 2"
   ]
  },
  {
   "cell_type": "code",
   "execution_count": 3,
   "metadata": {},
   "outputs": [],
   "source": [
    "from pathlib import Path\n",
    "import sys\n",
    "import numpy as np\n",
    "import pandas as pd\n",
    "import matplotlib.pyplot as plt"
   ]
  },
  {
   "cell_type": "code",
   "execution_count": 4,
   "metadata": {},
   "outputs": [],
   "source": [
    "CURRENT_DIR = Path('.').resolve()\n",
    "MODULES_DIR = CURRENT_DIR.parent.joinpath('src')\n",
    "sys.path.append(str(MODULES_DIR))\n",
    "DATA_DIR = CURRENT_DIR.parent.joinpath('Data','Process')"
   ]
  },
  {
   "cell_type": "code",
   "execution_count": 7,
   "metadata": {},
   "outputs": [],
   "source": [
    "df = pd.read_csv(str(DATA_DIR)+'/taxi_sc.csv',index_col=0)\n",
    "df_prescaled = pd.read_csv(str(DATA_DIR)+'/taxi_sc_prescaling.csv',index_col=0)"
   ]
  },
  {
   "cell_type": "code",
   "execution_count": 6,
   "metadata": {},
   "outputs": [
    {
     "data": {
      "text/html": [
       "<div>\n",
       "<style scoped>\n",
       "    .dataframe tbody tr th:only-of-type {\n",
       "        vertical-align: middle;\n",
       "    }\n",
       "\n",
       "    .dataframe tbody tr th {\n",
       "        vertical-align: top;\n",
       "    }\n",
       "\n",
       "    .dataframe thead th {\n",
       "        text-align: right;\n",
       "    }\n",
       "</style>\n",
       "<table border=\"1\" class=\"dataframe\">\n",
       "  <thead>\n",
       "    <tr style=\"text-align: right;\">\n",
       "      <th></th>\n",
       "      <th>pickup_longitude</th>\n",
       "      <th>pickup_latitude</th>\n",
       "      <th>dropoff_longitude</th>\n",
       "      <th>dropoff_latitude</th>\n",
       "      <th>passenger_count</th>\n",
       "      <th>year</th>\n",
       "      <th>month</th>\n",
       "      <th>day</th>\n",
       "      <th>day_of_week</th>\n",
       "      <th>hour</th>\n",
       "      <th>distance</th>\n",
       "      <th>pickup_dist_JFK_Airport</th>\n",
       "      <th>pickup_dist_Laguardia_Airport</th>\n",
       "      <th>pickup_dist_Newark_Airport</th>\n",
       "      <th>dropoff_dist_JFK_Airport</th>\n",
       "      <th>dropoff_dist_Laguardia_Airport</th>\n",
       "      <th>dropoff_dist_Newark_Airport</th>\n",
       "      <th>fare_amount</th>\n",
       "    </tr>\n",
       "  </thead>\n",
       "  <tbody>\n",
       "    <tr>\n",
       "      <th>0</th>\n",
       "      <td>3.916896</td>\n",
       "      <td>-1.128227</td>\n",
       "      <td>4.151116</td>\n",
       "      <td>-1.365537</td>\n",
       "      <td>-0.526888</td>\n",
       "      <td>-1.469611</td>\n",
       "      <td>-0.078187</td>\n",
       "      <td>-0.078219</td>\n",
       "      <td>-1.560801</td>\n",
       "      <td>0.535442</td>\n",
       "      <td>-0.646405</td>\n",
       "      <td>-3.957854</td>\n",
       "      <td>-2.321151</td>\n",
       "      <td>3.494461</td>\n",
       "      <td>-4.628070</td>\n",
       "      <td>-1.901119</td>\n",
       "      <td>3.621417</td>\n",
       "      <td>4.5</td>\n",
       "    </tr>\n",
       "    <tr>\n",
       "      <th>1</th>\n",
       "      <td>-1.203464</td>\n",
       "      <td>-1.510227</td>\n",
       "      <td>-0.146055</td>\n",
       "      <td>1.083475</td>\n",
       "      <td>-0.526888</td>\n",
       "      <td>-0.932852</td>\n",
       "      <td>-1.531625</td>\n",
       "      <td>-1.230176</td>\n",
       "      <td>-1.047515</td>\n",
       "      <td>0.381408</td>\n",
       "      <td>1.292368</td>\n",
       "      <td>0.651855</td>\n",
       "      <td>1.791541</td>\n",
       "      <td>-1.403329</td>\n",
       "      <td>0.631996</td>\n",
       "      <td>-0.076296</td>\n",
       "      <td>0.144374</td>\n",
       "      <td>16.9</td>\n",
       "    </tr>\n",
       "    <tr>\n",
       "      <th>2</th>\n",
       "      <td>-0.210322</td>\n",
       "      <td>0.395464</td>\n",
       "      <td>-0.519838</td>\n",
       "      <td>-0.020874</td>\n",
       "      <td>0.239932</td>\n",
       "      <td>-0.396092</td>\n",
       "      <td>0.503188</td>\n",
       "      <td>0.267369</td>\n",
       "      <td>-0.020945</td>\n",
       "      <td>-2.083145</td>\n",
       "      <td>-0.529455</td>\n",
       "      <td>0.300110</td>\n",
       "      <td>0.010540</td>\n",
       "      <td>-0.137330</td>\n",
       "      <td>0.425078</td>\n",
       "      <td>0.438538</td>\n",
       "      <td>-0.519138</td>\n",
       "      <td>5.7</td>\n",
       "    </tr>\n",
       "    <tr>\n",
       "      <th>3</th>\n",
       "      <td>-0.341270</td>\n",
       "      <td>-0.677271</td>\n",
       "      <td>-0.529984</td>\n",
       "      <td>0.243605</td>\n",
       "      <td>-0.526888</td>\n",
       "      <td>0.140667</td>\n",
       "      <td>-0.659562</td>\n",
       "      <td>0.612956</td>\n",
       "      <td>1.005625</td>\n",
       "      <td>-1.467007</td>\n",
       "      <td>-0.207528</td>\n",
       "      <td>0.018578</td>\n",
       "      <td>0.400941</td>\n",
       "      <td>-0.482410</td>\n",
       "      <td>0.557964</td>\n",
       "      <td>0.412867</td>\n",
       "      <td>-0.456748</td>\n",
       "      <td>7.7</td>\n",
       "    </tr>\n",
       "    <tr>\n",
       "      <th>4</th>\n",
       "      <td>0.226261</td>\n",
       "      <td>0.652445</td>\n",
       "      <td>0.559839</td>\n",
       "      <td>1.145221</td>\n",
       "      <td>-0.526888</td>\n",
       "      <td>-0.932852</td>\n",
       "      <td>-0.950250</td>\n",
       "      <td>-0.769393</td>\n",
       "      <td>-1.047515</td>\n",
       "      <td>-1.004903</td>\n",
       "      <td>-0.369533</td>\n",
       "      <td>0.017033</td>\n",
       "      <td>-0.590553</td>\n",
       "      <td>0.320629</td>\n",
       "      <td>0.033960</td>\n",
       "      <td>-0.964083</td>\n",
       "      <td>0.773758</td>\n",
       "      <td>5.3</td>\n",
       "    </tr>\n",
       "  </tbody>\n",
       "</table>\n",
       "</div>"
      ],
      "text/plain": [
       "   pickup_longitude  pickup_latitude  dropoff_longitude  dropoff_latitude   \n",
       "0          3.916896        -1.128227           4.151116         -1.365537  \\\n",
       "1         -1.203464        -1.510227          -0.146055          1.083475   \n",
       "2         -0.210322         0.395464          -0.519838         -0.020874   \n",
       "3         -0.341270        -0.677271          -0.529984          0.243605   \n",
       "4          0.226261         0.652445           0.559839          1.145221   \n",
       "\n",
       "   passenger_count      year     month       day  day_of_week      hour   \n",
       "0        -0.526888 -1.469611 -0.078187 -0.078219    -1.560801  0.535442  \\\n",
       "1        -0.526888 -0.932852 -1.531625 -1.230176    -1.047515  0.381408   \n",
       "2         0.239932 -0.396092  0.503188  0.267369    -0.020945 -2.083145   \n",
       "3        -0.526888  0.140667 -0.659562  0.612956     1.005625 -1.467007   \n",
       "4        -0.526888 -0.932852 -0.950250 -0.769393    -1.047515 -1.004903   \n",
       "\n",
       "   distance  pickup_dist_JFK_Airport  pickup_dist_Laguardia_Airport   \n",
       "0 -0.646405                -3.957854                      -2.321151  \\\n",
       "1  1.292368                 0.651855                       1.791541   \n",
       "2 -0.529455                 0.300110                       0.010540   \n",
       "3 -0.207528                 0.018578                       0.400941   \n",
       "4 -0.369533                 0.017033                      -0.590553   \n",
       "\n",
       "   pickup_dist_Newark_Airport  dropoff_dist_JFK_Airport   \n",
       "0                    3.494461                 -4.628070  \\\n",
       "1                   -1.403329                  0.631996   \n",
       "2                   -0.137330                  0.425078   \n",
       "3                   -0.482410                  0.557964   \n",
       "4                    0.320629                  0.033960   \n",
       "\n",
       "   dropoff_dist_Laguardia_Airport  dropoff_dist_Newark_Airport  fare_amount  \n",
       "0                       -1.901119                     3.621417          4.5  \n",
       "1                       -0.076296                     0.144374         16.9  \n",
       "2                        0.438538                    -0.519138          5.7  \n",
       "3                        0.412867                    -0.456748          7.7  \n",
       "4                       -0.964083                     0.773758          5.3  "
      ]
     },
     "execution_count": 6,
     "metadata": {},
     "output_type": "execute_result"
    }
   ],
   "source": [
    "df.head()"
   ]
  },
  {
   "cell_type": "code",
   "execution_count": 8,
   "metadata": {},
   "outputs": [
    {
     "data": {
      "text/html": [
       "<div>\n",
       "<style scoped>\n",
       "    .dataframe tbody tr th:only-of-type {\n",
       "        vertical-align: middle;\n",
       "    }\n",
       "\n",
       "    .dataframe tbody tr th {\n",
       "        vertical-align: top;\n",
       "    }\n",
       "\n",
       "    .dataframe thead th {\n",
       "        text-align: right;\n",
       "    }\n",
       "</style>\n",
       "<table border=\"1\" class=\"dataframe\">\n",
       "  <thead>\n",
       "    <tr style=\"text-align: right;\">\n",
       "      <th></th>\n",
       "      <th>fare_amount</th>\n",
       "      <th>pickup_longitude</th>\n",
       "      <th>pickup_latitude</th>\n",
       "      <th>dropoff_longitude</th>\n",
       "      <th>dropoff_latitude</th>\n",
       "      <th>passenger_count</th>\n",
       "      <th>year</th>\n",
       "      <th>month</th>\n",
       "      <th>day</th>\n",
       "      <th>day_of_week</th>\n",
       "      <th>hour</th>\n",
       "      <th>distance</th>\n",
       "      <th>pickup_dist_JFK_Airport</th>\n",
       "      <th>pickup_dist_Laguardia_Airport</th>\n",
       "      <th>pickup_dist_Newark_Airport</th>\n",
       "      <th>dropoff_dist_JFK_Airport</th>\n",
       "      <th>dropoff_dist_Laguardia_Airport</th>\n",
       "      <th>dropoff_dist_Newark_Airport</th>\n",
       "    </tr>\n",
       "  </thead>\n",
       "  <tbody>\n",
       "    <tr>\n",
       "      <th>0</th>\n",
       "      <td>4.5</td>\n",
       "      <td>-73.844311</td>\n",
       "      <td>40.721319</td>\n",
       "      <td>-73.841610</td>\n",
       "      <td>40.712278</td>\n",
       "      <td>1</td>\n",
       "      <td>2009</td>\n",
       "      <td>6</td>\n",
       "      <td>15</td>\n",
       "      <td>0</td>\n",
       "      <td>17</td>\n",
       "      <td>0.009436</td>\n",
       "      <td>0.101340</td>\n",
       "      <td>0.055043</td>\n",
       "      <td>0.337147</td>\n",
       "      <td>0.092710</td>\n",
       "      <td>0.064326</td>\n",
       "      <td>0.339123</td>\n",
       "    </tr>\n",
       "    <tr>\n",
       "      <th>1</th>\n",
       "      <td>16.9</td>\n",
       "      <td>-74.016048</td>\n",
       "      <td>40.711303</td>\n",
       "      <td>-73.979268</td>\n",
       "      <td>40.782004</td>\n",
       "      <td>1</td>\n",
       "      <td>2010</td>\n",
       "      <td>1</td>\n",
       "      <td>5</td>\n",
       "      <td>1</td>\n",
       "      <td>16</td>\n",
       "      <td>0.079696</td>\n",
       "      <td>0.245731</td>\n",
       "      <td>0.157402</td>\n",
       "      <td>0.165330</td>\n",
       "      <td>0.242961</td>\n",
       "      <td>0.109925</td>\n",
       "      <td>0.220812</td>\n",
       "    </tr>\n",
       "    <tr>\n",
       "      <th>2</th>\n",
       "      <td>5.7</td>\n",
       "      <td>-73.982738</td>\n",
       "      <td>40.761270</td>\n",
       "      <td>-73.991242</td>\n",
       "      <td>40.750562</td>\n",
       "      <td>2</td>\n",
       "      <td>2011</td>\n",
       "      <td>8</td>\n",
       "      <td>18</td>\n",
       "      <td>3</td>\n",
       "      <td>0</td>\n",
       "      <td>0.013674</td>\n",
       "      <td>0.234714</td>\n",
       "      <td>0.113076</td>\n",
       "      <td>0.209742</td>\n",
       "      <td>0.237050</td>\n",
       "      <td>0.122790</td>\n",
       "      <td>0.198236</td>\n",
       "    </tr>\n",
       "    <tr>\n",
       "      <th>3</th>\n",
       "      <td>7.7</td>\n",
       "      <td>-73.987130</td>\n",
       "      <td>40.733143</td>\n",
       "      <td>-73.991567</td>\n",
       "      <td>40.758092</td>\n",
       "      <td>1</td>\n",
       "      <td>2012</td>\n",
       "      <td>4</td>\n",
       "      <td>21</td>\n",
       "      <td>5</td>\n",
       "      <td>4</td>\n",
       "      <td>0.025340</td>\n",
       "      <td>0.225895</td>\n",
       "      <td>0.122792</td>\n",
       "      <td>0.197636</td>\n",
       "      <td>0.240846</td>\n",
       "      <td>0.122149</td>\n",
       "      <td>0.200358</td>\n",
       "    </tr>\n",
       "    <tr>\n",
       "      <th>4</th>\n",
       "      <td>5.3</td>\n",
       "      <td>-73.968095</td>\n",
       "      <td>40.768008</td>\n",
       "      <td>-73.956655</td>\n",
       "      <td>40.783762</td>\n",
       "      <td>1</td>\n",
       "      <td>2010</td>\n",
       "      <td>3</td>\n",
       "      <td>9</td>\n",
       "      <td>1</td>\n",
       "      <td>7</td>\n",
       "      <td>0.019470</td>\n",
       "      <td>0.225847</td>\n",
       "      <td>0.098115</td>\n",
       "      <td>0.225807</td>\n",
       "      <td>0.225878</td>\n",
       "      <td>0.087741</td>\n",
       "      <td>0.242228</td>\n",
       "    </tr>\n",
       "  </tbody>\n",
       "</table>\n",
       "</div>"
      ],
      "text/plain": [
       "   fare_amount  pickup_longitude  pickup_latitude  dropoff_longitude   \n",
       "0          4.5        -73.844311        40.721319         -73.841610  \\\n",
       "1         16.9        -74.016048        40.711303         -73.979268   \n",
       "2          5.7        -73.982738        40.761270         -73.991242   \n",
       "3          7.7        -73.987130        40.733143         -73.991567   \n",
       "4          5.3        -73.968095        40.768008         -73.956655   \n",
       "\n",
       "   dropoff_latitude  passenger_count  year  month  day  day_of_week  hour   \n",
       "0         40.712278                1  2009      6   15            0    17  \\\n",
       "1         40.782004                1  2010      1    5            1    16   \n",
       "2         40.750562                2  2011      8   18            3     0   \n",
       "3         40.758092                1  2012      4   21            5     4   \n",
       "4         40.783762                1  2010      3    9            1     7   \n",
       "\n",
       "   distance  pickup_dist_JFK_Airport  pickup_dist_Laguardia_Airport   \n",
       "0  0.009436                 0.101340                       0.055043  \\\n",
       "1  0.079696                 0.245731                       0.157402   \n",
       "2  0.013674                 0.234714                       0.113076   \n",
       "3  0.025340                 0.225895                       0.122792   \n",
       "4  0.019470                 0.225847                       0.098115   \n",
       "\n",
       "   pickup_dist_Newark_Airport  dropoff_dist_JFK_Airport   \n",
       "0                    0.337147                  0.092710  \\\n",
       "1                    0.165330                  0.242961   \n",
       "2                    0.209742                  0.237050   \n",
       "3                    0.197636                  0.240846   \n",
       "4                    0.225807                  0.225878   \n",
       "\n",
       "   dropoff_dist_Laguardia_Airport  dropoff_dist_Newark_Airport  \n",
       "0                        0.064326                     0.339123  \n",
       "1                        0.109925                     0.220812  \n",
       "2                        0.122790                     0.198236  \n",
       "3                        0.122149                     0.200358  \n",
       "4                        0.087741                     0.242228  "
      ]
     },
     "execution_count": 8,
     "metadata": {},
     "output_type": "execute_result"
    }
   ],
   "source": [
    "df_prescaled.head()"
   ]
  },
  {
   "attachments": {},
   "cell_type": "markdown",
   "metadata": {},
   "source": [
    "-----\n",
    "\n",
    "# Deep feedforward networks\n",
    "\n",
    "We'll train one in Keras for a regression task\n",
    "\n",
    "## Model architecture\n",
    "\n",
    "We shall use a deeper model to account for the additional complexity. The deep feedforward network will have four hidden layers. The first bidden layer will have 128 nodes, with each successive hidden layer having half nodes of its predecessor. This neural network size is a good starting point for us and it should no take too long to train this neural network. A general rule of thumb is that we should start with a small neural network and only increase its complexity as required.\n",
    "\n",
    "![Imgur](https://imgur.com/5hXrZTV.png)"
   ]
  },
  {
   "attachments": {},
   "cell_type": "markdown",
   "metadata": {},
   "source": [
    "## Loss functions for regression problems\n",
    "\n",
    "In regression, the **root mean squere error (RMSE)** is often used as the error metric.\n",
    "\n",
    "The formula for RMSE is as follows:\n",
    "\n",
    "$$ \\textrm{RMSE} = \\sqrt{(\\textrm{prediction}-\\textrm{actual})^2}\n"
   ]
  },
  {
   "attachments": {},
   "cell_type": "markdown",
   "metadata": {},
   "source": [
    "## Model building in Python using keras\n",
    "\n",
    "Now, let's implement our model architecture in Keras. \n",
    "\n",
    "First, split the DataFrame into the training features (X) and the target variable that we're trying to predict(y):"
   ]
  },
  {
   "cell_type": "code",
   "execution_count": 9,
   "metadata": {},
   "outputs": [],
   "source": [
    "X = df.loc[:,df.columns != 'fare_amount']\n",
    "y = df.loc[:,'fare_amount']"
   ]
  },
  {
   "cell_type": "code",
   "execution_count": 11,
   "metadata": {},
   "outputs": [],
   "source": [
    "from sklearn.model_selection import train_test_split"
   ]
  },
  {
   "cell_type": "code",
   "execution_count": 12,
   "metadata": {},
   "outputs": [],
   "source": [
    "X_train, X_test, y_train, y_test = train_test_split(X, y, test_size=0.2)"
   ]
  },
  {
   "attachments": {},
   "cell_type": "markdown",
   "metadata": {},
   "source": [
    "Next, let's build our `Sequential` model in keras according to the neural network architecture we outlined earlier:\n"
   ]
  },
  {
   "cell_type": "code",
   "execution_count": 16,
   "metadata": {},
   "outputs": [],
   "source": [
    "from keras.models import Sequential\n",
    "from keras.layers import Dense"
   ]
  },
  {
   "cell_type": "code",
   "execution_count": 17,
   "metadata": {},
   "outputs": [],
   "source": [
    "model = Sequential()\n",
    "model.add(Dense(128, activation='relu', input_dim=X_train.shape[1]))\n",
    "model.add(Dense(64, activation='relu'))\n",
    "model.add(Dense(32, activation='relu'))\n",
    "model.add(Dense(8, activation='relu'))\n",
    "model.add(Dense(1))"
   ]
  },
  {
   "cell_type": "code",
   "execution_count": 18,
   "metadata": {},
   "outputs": [
    {
     "name": "stdout",
     "output_type": "stream",
     "text": [
      "Model: \"sequential\"\n",
      "_________________________________________________________________\n",
      " Layer (type)                Output Shape              Param #   \n",
      "=================================================================\n",
      " dense (Dense)               (None, 128)               2304      \n",
      "                                                                 \n",
      " dense_1 (Dense)             (None, 64)                8256      \n",
      "                                                                 \n",
      " dense_2 (Dense)             (None, 32)                2080      \n",
      "                                                                 \n",
      " dense_3 (Dense)             (None, 8)                 264       \n",
      "                                                                 \n",
      " dense_4 (Dense)             (None, 1)                 9         \n",
      "                                                                 \n",
      "=================================================================\n",
      "Total params: 12,913\n",
      "Trainable params: 12,913\n",
      "Non-trainable params: 0\n",
      "_________________________________________________________________\n"
     ]
    }
   ],
   "source": [
    "model.summary()"
   ]
  },
  {
   "cell_type": "code",
   "execution_count": 19,
   "metadata": {},
   "outputs": [],
   "source": [
    "model.compile(loss='mse',optimizer='adam', metrics=['mse'])"
   ]
  },
  {
   "cell_type": "code",
   "execution_count": 87,
   "metadata": {},
   "outputs": [
    {
     "name": "stdout",
     "output_type": "stream",
     "text": [
      "Epoch 1/20\n",
      "   30/12086 [..............................] - ETA: 42s - loss: 10.3740 - mse: 10.3740"
     ]
    },
    {
     "name": "stderr",
     "output_type": "stream",
     "text": [
      "2023-06-22 11:53:33.803192: W tensorflow/tsl/framework/cpu_allocator_impl.cc:83] Allocation of 52598000 exceeds 10% of free system memory.\n"
     ]
    },
    {
     "name": "stdout",
     "output_type": "stream",
     "text": [
      "12086/12086 [==============================] - 30s 2ms/step - loss: 11.0519 - mse: 11.0519\n",
      "Epoch 2/20\n",
      "12086/12086 [==============================] - 30s 2ms/step - loss: 10.9947 - mse: 10.9947\n",
      "Epoch 3/20\n",
      "12086/12086 [==============================] - 30s 2ms/step - loss: 10.9902 - mse: 10.9902\n",
      "Epoch 4/20\n",
      "12086/12086 [==============================] - 30s 2ms/step - loss: 10.9326 - mse: 10.9326\n",
      "Epoch 5/20\n",
      "12086/12086 [==============================] - 30s 2ms/step - loss: 10.9227 - mse: 10.9227\n",
      "Epoch 6/20\n",
      "12086/12086 [==============================] - 30s 2ms/step - loss: 10.8645 - mse: 10.8645\n",
      "Epoch 7/20\n",
      "12086/12086 [==============================] - 30s 2ms/step - loss: 10.8382 - mse: 10.8382\n",
      "Epoch 8/20\n",
      "12086/12086 [==============================] - 30s 2ms/step - loss: 10.8145 - mse: 10.8145\n",
      "Epoch 9/20\n",
      "12086/12086 [==============================] - 32s 3ms/step - loss: 10.7921 - mse: 10.7921\n",
      "Epoch 10/20\n",
      "12086/12086 [==============================] - 35s 3ms/step - loss: 10.7489 - mse: 10.7489\n",
      "Epoch 11/20\n",
      "12086/12086 [==============================] - 30s 2ms/step - loss: 10.7438 - mse: 10.7438\n",
      "Epoch 12/20\n",
      "12086/12086 [==============================] - 30s 2ms/step - loss: 10.7173 - mse: 10.7173\n",
      "Epoch 13/20\n",
      "12086/12086 [==============================] - 30s 2ms/step - loss: 10.6718 - mse: 10.6718\n",
      "Epoch 14/20\n",
      "12086/12086 [==============================] - 31s 3ms/step - loss: 10.6570 - mse: 10.6570\n",
      "Epoch 15/20\n",
      "12086/12086 [==============================] - 31s 3ms/step - loss: 10.6394 - mse: 10.6394\n",
      "Epoch 16/20\n",
      "12086/12086 [==============================] - 31s 3ms/step - loss: 10.6081 - mse: 10.6081\n",
      "Epoch 17/20\n",
      "12086/12086 [==============================] - 31s 3ms/step - loss: 10.5941 - mse: 10.5941\n",
      "Epoch 18/20\n",
      "12086/12086 [==============================] - 31s 3ms/step - loss: 10.5919 - mse: 10.5919\n",
      "Epoch 19/20\n",
      "12086/12086 [==============================] - 31s 3ms/step - loss: 10.5623 - mse: 10.5623\n",
      "Epoch 20/20\n",
      "12086/12086 [==============================] - 31s 3ms/step - loss: 10.5306 - mse: 10.5306\n"
     ]
    },
    {
     "data": {
      "text/plain": [
       "<keras.callbacks.History at 0x7f19786af2b0>"
      ]
     },
     "execution_count": 87,
     "metadata": {},
     "output_type": "execute_result"
    }
   ],
   "source": [
    "model.fit(X_train, y_train, epochs=20)"
   ]
  },
  {
   "cell_type": "code",
   "execution_count": 88,
   "metadata": {},
   "outputs": [],
   "source": [
    "def predict_random(df_prescaled, X_test, model):\n",
    "    sample = X_test.sample(n=1, random_state=np.random.randint(low=0,\n",
    "    high=10000))\n",
    "    idx = sample.index[0] # index\n",
    "    actual_fare = df_prescaled.loc[idx,'fare_amount'] # Real value\n",
    "    day_names = ['Monday', 'Tuesday', 'Wednesday', 'Thursday', 'Friday',\n",
    "    'Saturday', 'Sunday']\n",
    "    day_of_week = day_names[df_prescaled.loc[idx,'day_of_week']]\n",
    "    hour = df_prescaled.loc[idx,'hour']\n",
    "    predicted_fare = model.predict(sample)[0][0]\n",
    "    rmse = np.sqrt(np.square(predicted_fare-actual_fare))    \n",
    "    print(f'Trip Details: {day_of_week}, {hour}:00 hrs')\n",
    "    print(f'Actual fare: ${actual_fare: .2f}')\n",
    "    print(f'Predicted fare: $ {predicted_fare: .2f}')\n",
    "    print(f'RMSE: ${rmse: .2f}')"
   ]
  },
  {
   "cell_type": "code",
   "execution_count": 89,
   "metadata": {},
   "outputs": [
    {
     "name": "stdout",
     "output_type": "stream",
     "text": [
      "1/1 [==============================] - 0s 22ms/step\n",
      "Trip Details: Thursday, 6:00 hrs\n",
      "Actual fare: $ 4.90\n",
      "Predicted fare: $  6.01\n",
      "RMSE: $ 1.11\n"
     ]
    }
   ],
   "source": [
    "predict_random(df_prescaled, X_test, model)"
   ]
  },
  {
   "cell_type": "code",
   "execution_count": 90,
   "metadata": {},
   "outputs": [
    {
     "name": "stdout",
     "output_type": "stream",
     "text": [
      "1/1 [==============================] - 0s 23ms/step\n",
      "Trip Details: Wednesday, 23:00 hrs\n",
      "Actual fare: $ 10.50\n",
      "Predicted fare: $  10.31\n",
      "RMSE: $ 0.19\n"
     ]
    }
   ],
   "source": [
    "predict_random(df_prescaled, X_test, model)"
   ]
  },
  {
   "cell_type": "code",
   "execution_count": 91,
   "metadata": {},
   "outputs": [
    {
     "name": "stdout",
     "output_type": "stream",
     "text": [
      "1/1 [==============================] - 0s 22ms/step\n",
      "Trip Details: Wednesday, 0:00 hrs\n",
      "Actual fare: $ 37.00\n",
      "Predicted fare: $  28.67\n",
      "RMSE: $ 8.33\n"
     ]
    }
   ],
   "source": [
    "predict_random(df_prescaled, X_test, model)"
   ]
  },
  {
   "cell_type": "code",
   "execution_count": 92,
   "metadata": {},
   "outputs": [
    {
     "name": "stdout",
     "output_type": "stream",
     "text": [
      "1/1 [==============================] - 0s 20ms/step\n",
      "Trip Details: Friday, 1:00 hrs\n",
      "Actual fare: $ 8.50\n",
      "Predicted fare: $  8.42\n",
      "RMSE: $ 0.08\n"
     ]
    }
   ],
   "source": [
    "predict_random(df_prescaled, X_test, model)"
   ]
  },
  {
   "cell_type": "code",
   "execution_count": 93,
   "metadata": {},
   "outputs": [
    {
     "name": "stdout",
     "output_type": "stream",
     "text": [
      "1/1 [==============================] - 0s 22ms/step\n",
      "Trip Details: Sunday, 1:00 hrs\n",
      "Actual fare: $ 8.90\n",
      "Predicted fare: $  8.07\n",
      "RMSE: $ 0.83\n"
     ]
    }
   ],
   "source": [
    "predict_random(df_prescaled, X_test, model)"
   ]
  },
  {
   "cell_type": "code",
   "execution_count": 94,
   "metadata": {},
   "outputs": [
    {
     "name": "stdout",
     "output_type": "stream",
     "text": [
      "1/1 [==============================] - 0s 20ms/step\n",
      "Trip Details: Monday, 22:00 hrs\n",
      "Actual fare: $ 6.10\n",
      "Predicted fare: $  6.27\n",
      "RMSE: $ 0.17\n"
     ]
    }
   ],
   "source": [
    "predict_random(df_prescaled, X_test, model)"
   ]
  },
  {
   "cell_type": "code",
   "execution_count": 95,
   "metadata": {},
   "outputs": [
    {
     "name": "stdout",
     "output_type": "stream",
     "text": [
      "1/1 [==============================] - 0s 24ms/step\n",
      "Trip Details: Thursday, 21:00 hrs\n",
      "Actual fare: $ 17.70\n",
      "Predicted fare: $  20.15\n",
      "RMSE: $ 2.45\n"
     ]
    }
   ],
   "source": [
    "predict_random(df_prescaled, X_test, model)"
   ]
  },
  {
   "cell_type": "code",
   "execution_count": 96,
   "metadata": {},
   "outputs": [
    {
     "name": "stdout",
     "output_type": "stream",
     "text": [
      "1/1 [==============================] - 0s 21ms/step\n",
      "Trip Details: Sunday, 21:00 hrs\n",
      "Actual fare: $ 6.50\n",
      "Predicted fare: $  4.96\n",
      "RMSE: $ 1.54\n"
     ]
    }
   ],
   "source": [
    "predict_random(df_prescaled, X_test, model)"
   ]
  },
  {
   "cell_type": "code",
   "execution_count": 97,
   "metadata": {},
   "outputs": [
    {
     "name": "stdout",
     "output_type": "stream",
     "text": [
      "12086/12086 [==============================] - 21s 2ms/step\n",
      "3022/3022 [==============================] - 5s 2ms/step\n",
      "Train RMSE: 3.22\n",
      "Test RMSE: 3.24\n"
     ]
    }
   ],
   "source": [
    "from sklearn.metrics import mean_squared_error\n",
    "train_pred = model.predict(X_train)\n",
    "train_rmse = np.sqrt(mean_squared_error(y_train, train_pred))\n",
    "test_pred = model.predict(X_test)\n",
    "test_rmse = np.sqrt(mean_squared_error(y_test, test_pred))\n",
    "print(\"Train RMSE: {:0.2f}\".format(train_rmse))\n",
    "print(\"Test RMSE: {:0.2f}\".format(test_rmse))"
   ]
  }
 ],
 "metadata": {
  "kernelspec": {
   "display_name": "neural-network-projects-python",
   "language": "python",
   "name": "python3"
  },
  "language_info": {
   "codemirror_mode": {
    "name": "ipython",
    "version": 3
   },
   "file_extension": ".py",
   "mimetype": "text/x-python",
   "name": "python",
   "nbconvert_exporter": "python",
   "pygments_lexer": "ipython3",
   "version": "3.10.9"
  },
  "orig_nbformat": 4
 },
 "nbformat": 4,
 "nbformat_minor": 2
}
